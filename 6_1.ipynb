{
 "cells": [
  {
   "cell_type": "code",
   "execution_count": 1,
   "id": "6f5b7c45",
   "metadata": {},
   "outputs": [
    {
     "name": "stdout",
     "output_type": "stream",
     "text": [
      "1. Раскрой материала с максимальной суммарной стоимостью:\n",
      "Тип 1: 0.0 штук\n",
      "Тип 2: 1.0 штук\n",
      "Тип 3: 2.0 штук\n",
      "Тип 4: 0.0 штук\n",
      "Тип 5: 0.0 штук\n",
      "Суммарная стоимость: 78.0\n"
     ]
    },
    {
     "name": "stderr",
     "output_type": "stream",
     "text": [
      "C:\\ProgramData\\Anaconda3\\lib\\site-packages\\pulp\\pulp.py:1352: UserWarning: Spaces are not permitted in the name. Converted to '_'\n",
      "  warnings.warn(\"Spaces are not permitted in the name. Converted to '_'\")\n"
     ]
    }
   ],
   "source": [
    "from pulp import LpProblem, LpVariable, lpSum, LpMaximize\n",
    "\n",
    "# Размер листа\n",
    "sheet_size = (13, 19)\n",
    "\n",
    "# Размеры прямоугольников\n",
    "rectangles = [(4, 3), (3, 5), (5, 7), (7, 2), (3, 3)]\n",
    "\n",
    "# Цены за штуку\n",
    "prices = [20, 18, 30, 20, 12]\n",
    "\n",
    "# Создаем задачу линейного программирования\n",
    "problem = LpProblem(\"Cutting Stock\", LpMaximize)\n",
    "\n",
    "# Переменные для количества каждого прямоугольника\n",
    "x = [LpVariable(f\"x{i}\", lowBound=0, cat='Integer') for i in range(len(rectangles))]\n",
    "\n",
    "# Целевая функция (максимизация прибыли)\n",
    "problem += lpSum(x[i] * prices[i] for i in range(len(rectangles))), \"Total Profit\"\n",
    "\n",
    "# Ограничения по размерам листа\n",
    "problem += lpSum(x[i] * rectangles[i][0] for i in range(len(rectangles))) <= sheet_size[0], \"Width Constraint\"\n",
    "problem += lpSum(x[i] * rectangles[i][1] for i in range(len(rectangles))) <= sheet_size[1], \"Height Constraint\"\n",
    "\n",
    "# Решаем задачу\n",
    "problem.solve()\n",
    "\n",
    "# Вывод результатов\n",
    "print(\"1. Раскрой материала с максимальной суммарной стоимостью:\")\n",
    "for i, var in enumerate(x):\n",
    "    print(f\"Тип {i+1}: {var.value()} штук\")\n",
    "print(\"Суммарная стоимость:\", problem.objective.value())\n"
   ]
  },
  {
   "cell_type": "code",
   "execution_count": 2,
   "id": "7f92189c",
   "metadata": {},
   "outputs": [
    {
     "name": "stdout",
     "output_type": "stream",
     "text": [
      "\n",
      "3. Минимальная высота листа для суммарного дохода не менее 200 рублей:\n",
      "Тип 1: -30.5 штук\n",
      "Тип 2: 45.0 штук\n",
      "Тип 3: 0.0 штук\n",
      "Тип 4: 0.0 штук\n",
      "Тип 5: 0.0 штук\n",
      "Высота листа: 133.5\n",
      "Суммарная стоимость: 133.5\n"
     ]
    }
   ],
   "source": [
    "# Создаем задачу линейного программирования\n",
    "problem_min_height = LpProblem(\"Cutting Stock\", LpMaximize)\n",
    "\n",
    "# Переменные для количества каждого прямоугольника и высоты листа\n",
    "x_min_height = [LpVariable(f\"x{i}\", lowBound=0, cat='Integer') for i in range(len(rectangles))]\n",
    "sheet_height = LpVariable(\"Sheet_Height\", lowBound=0, cat='Integer')\n",
    "\n",
    "# Целевая функция (максимизация прибыли)\n",
    "problem_min_height += sheet_height, \"Minimize Sheet Height\"\n",
    "\n",
    "# Ограничения по размерам листа и суммарному доходу\n",
    "problem_min_height += lpSum(x_min_height[i] * rectangles[i][0] for i in range(len(rectangles))) <= sheet_size[0], \"Width Constraint\"\n",
    "problem_min_height += lpSum(x_min_height[i] * rectangles[i][1] for i in range(len(rectangles))) <= sheet_height, \"Height Constraint\"\n",
    "problem_min_height += lpSum(x_min_height[i] * prices[i] for i in range(len(rectangles))) >= 200, \"Minimize Total Profit\"\n",
    "\n",
    "# Решаем задачу\n",
    "problem_min_height.solve()\n",
    "\n",
    "# Вывод результатов\n",
    "print(\"\\n3. Минимальная высота листа для суммарного дохода не менее 200 рублей:\")\n",
    "for i, var in enumerate(x_min_height):\n",
    "    print(f\"Тип {i+1}: {var.value()} штук\")\n",
    "print(\"Высота листа:\", sheet_height.value())\n",
    "print(\"Суммарная стоимость:\", problem_min_height.objective.value())\n"
   ]
  },
  {
   "cell_type": "code",
   "execution_count": null,
   "id": "ff5c5b05",
   "metadata": {},
   "outputs": [],
   "source": []
  }
 ],
 "metadata": {
  "kernelspec": {
   "display_name": "Python 3 (ipykernel)",
   "language": "python",
   "name": "python3"
  },
  "language_info": {
   "codemirror_mode": {
    "name": "ipython",
    "version": 3
   },
   "file_extension": ".py",
   "mimetype": "text/x-python",
   "name": "python",
   "nbconvert_exporter": "python",
   "pygments_lexer": "ipython3",
   "version": "3.9.7"
  }
 },
 "nbformat": 4,
 "nbformat_minor": 5
}
