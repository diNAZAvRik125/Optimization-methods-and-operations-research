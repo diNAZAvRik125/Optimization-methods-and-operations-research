{
 "cells": [
  {
   "cell_type": "code",
   "execution_count": 3,
   "id": "23c2b8f9",
   "metadata": {},
   "outputs": [
    {
     "ename": "KeyError",
     "evalue": "'Task1'",
     "output_type": "error",
     "traceback": [
      "\u001b[1;31m---------------------------------------------------------------------------\u001b[0m",
      "\u001b[1;31mKeyError\u001b[0m                                  Traceback (most recent call last)",
      "\u001b[1;32mC:\\Users\\5B34~1\\AppData\\Local\\Temp/ipykernel_47952/2870160324.py\u001b[0m in \u001b[0;36m<module>\u001b[1;34m\u001b[0m\n\u001b[0;32m     56\u001b[0m \u001b[0mresource_capacity\u001b[0m \u001b[1;33m=\u001b[0m \u001b[1;33m{\u001b[0m\u001b[1;36m0\u001b[0m\u001b[1;33m:\u001b[0m \u001b[1;36m2\u001b[0m\u001b[1;33m,\u001b[0m \u001b[1;36m1\u001b[0m\u001b[1;33m:\u001b[0m \u001b[1;36m2\u001b[0m\u001b[1;33m,\u001b[0m \u001b[1;36m2\u001b[0m\u001b[1;33m:\u001b[0m \u001b[1;36m1\u001b[0m\u001b[1;33m,\u001b[0m \u001b[1;36m3\u001b[0m\u001b[1;33m:\u001b[0m \u001b[1;36m1\u001b[0m\u001b[1;33m,\u001b[0m \u001b[1;36m4\u001b[0m\u001b[1;33m:\u001b[0m \u001b[1;36m2\u001b[0m\u001b[1;33m}\u001b[0m\u001b[1;33m\u001b[0m\u001b[1;33m\u001b[0m\u001b[0m\n\u001b[0;32m     57\u001b[0m \u001b[1;33m\u001b[0m\u001b[0m\n\u001b[1;32m---> 58\u001b[1;33m \u001b[0mresult\u001b[0m \u001b[1;33m=\u001b[0m \u001b[0mhimadi_algorithm\u001b[0m\u001b[1;33m(\u001b[0m\u001b[0mtasks\u001b[0m\u001b[1;33m,\u001b[0m \u001b[0mresources\u001b[0m\u001b[1;33m,\u001b[0m \u001b[0mtask_duration\u001b[0m\u001b[1;33m,\u001b[0m \u001b[0mresource_capacity\u001b[0m\u001b[1;33m)\u001b[0m\u001b[1;33m\u001b[0m\u001b[1;33m\u001b[0m\u001b[0m\n\u001b[0m\u001b[0;32m     59\u001b[0m \u001b[0mprint\u001b[0m\u001b[1;33m(\u001b[0m\u001b[0mresult\u001b[0m\u001b[1;33m)\u001b[0m\u001b[1;33m\u001b[0m\u001b[1;33m\u001b[0m\u001b[0m\n",
      "\u001b[1;32mC:\\Users\\5B34~1\\AppData\\Local\\Temp/ipykernel_47952/2870160324.py\u001b[0m in \u001b[0;36mhimadi_algorithm\u001b[1;34m(tasks, resources, task_duration, resource_capacity)\u001b[0m\n\u001b[0;32m     15\u001b[0m         \u001b[1;31m# Перебираем доступные ресурсы\u001b[0m\u001b[1;33m\u001b[0m\u001b[1;33m\u001b[0m\u001b[0m\n\u001b[0;32m     16\u001b[0m         \u001b[1;32mfor\u001b[0m \u001b[0mresource\u001b[0m \u001b[1;32min\u001b[0m \u001b[0mresources\u001b[0m\u001b[1;33m:\u001b[0m\u001b[1;33m\u001b[0m\u001b[1;33m\u001b[0m\u001b[0m\n\u001b[1;32m---> 17\u001b[1;33m             \u001b[0mstart_date\u001b[0m\u001b[1;33m,\u001b[0m \u001b[0mcompletion_time\u001b[0m \u001b[1;33m=\u001b[0m \u001b[0mfind_best_start_date\u001b[0m\u001b[1;33m(\u001b[0m\u001b[0mtask\u001b[0m\u001b[1;33m,\u001b[0m \u001b[0mresource\u001b[0m\u001b[1;33m,\u001b[0m \u001b[0mschedule\u001b[0m\u001b[1;33m,\u001b[0m \u001b[0mused_resources\u001b[0m\u001b[1;33m,\u001b[0m \u001b[0mresource_capacity\u001b[0m\u001b[1;33m)\u001b[0m\u001b[1;33m\u001b[0m\u001b[1;33m\u001b[0m\u001b[0m\n\u001b[0m\u001b[0;32m     18\u001b[0m             \u001b[1;32mif\u001b[0m \u001b[0mcompletion_time\u001b[0m \u001b[1;33m<\u001b[0m \u001b[0mbest_completion_time\u001b[0m\u001b[1;33m:\u001b[0m\u001b[1;33m\u001b[0m\u001b[1;33m\u001b[0m\u001b[0m\n\u001b[0;32m     19\u001b[0m                 \u001b[0mbest_start_date\u001b[0m \u001b[1;33m=\u001b[0m \u001b[0mstart_date\u001b[0m\u001b[1;33m\u001b[0m\u001b[1;33m\u001b[0m\u001b[0m\n",
      "\u001b[1;32mC:\\Users\\5B34~1\\AppData\\Local\\Temp/ipykernel_47952/2870160324.py\u001b[0m in \u001b[0;36mfind_best_start_date\u001b[1;34m(task, resource, schedule, used_resources, resource_capacity)\u001b[0m\n\u001b[0;32m     37\u001b[0m     \u001b[1;32mfor\u001b[0m \u001b[0mstart_date\u001b[0m \u001b[1;32min\u001b[0m \u001b[0mrange\u001b[0m\u001b[1;33m(\u001b[0m\u001b[0mmax\u001b[0m\u001b[1;33m(\u001b[0m\u001b[0mused_resources\u001b[0m\u001b[1;33m[\u001b[0m\u001b[0mresource\u001b[0m\u001b[1;33m]\u001b[0m\u001b[1;33m,\u001b[0m \u001b[0mmax\u001b[0m\u001b[1;33m(\u001b[0m\u001b[0mstart_dates\u001b[0m\u001b[1;33m,\u001b[0m \u001b[0mdefault\u001b[0m\u001b[1;33m=\u001b[0m\u001b[1;36m0\u001b[0m\u001b[1;33m)\u001b[0m\u001b[1;33m)\u001b[0m\u001b[1;33m,\u001b[0m \u001b[0mlen\u001b[0m\u001b[1;33m(\u001b[0m\u001b[0mresource_capacity\u001b[0m\u001b[1;33m)\u001b[0m \u001b[1;33m-\u001b[0m \u001b[0mtask_duration\u001b[0m\u001b[1;33m[\u001b[0m\u001b[0mtask\u001b[0m\u001b[1;33m]\u001b[0m \u001b[1;33m+\u001b[0m \u001b[1;36m1\u001b[0m\u001b[1;33m)\u001b[0m\u001b[1;33m:\u001b[0m\u001b[1;33m\u001b[0m\u001b[1;33m\u001b[0m\u001b[0m\n\u001b[0;32m     38\u001b[0m         \u001b[1;31m# Проверяем, есть ли достаточно ресурсов для выполнения задачи\u001b[0m\u001b[1;33m\u001b[0m\u001b[1;33m\u001b[0m\u001b[0m\n\u001b[1;32m---> 39\u001b[1;33m         \u001b[1;32mif\u001b[0m \u001b[0mall\u001b[0m\u001b[1;33m(\u001b[0m\u001b[0mused_resources\u001b[0m\u001b[1;33m[\u001b[0m\u001b[0mr\u001b[0m\u001b[1;33m]\u001b[0m \u001b[1;33m+\u001b[0m \u001b[0msum\u001b[0m\u001b[1;33m(\u001b[0m\u001b[1;36m1\u001b[0m \u001b[1;32mfor\u001b[0m \u001b[0mt\u001b[0m \u001b[1;32min\u001b[0m \u001b[0mschedule\u001b[0m \u001b[1;32mif\u001b[0m \u001b[0mstart_date\u001b[0m \u001b[1;33m<=\u001b[0m \u001b[0mschedule\u001b[0m\u001b[1;33m[\u001b[0m\u001b[0mt\u001b[0m\u001b[1;33m]\u001b[0m\u001b[1;33m[\u001b[0m\u001b[1;34m\"start_date\"\u001b[0m\u001b[1;33m]\u001b[0m \u001b[1;33m<\u001b[0m \u001b[0mstart_date\u001b[0m \u001b[1;33m+\u001b[0m \u001b[0mtask_duration\u001b[0m\u001b[1;33m[\u001b[0m\u001b[0mtask\u001b[0m\u001b[1;33m]\u001b[0m\u001b[1;33m)\u001b[0m \u001b[1;33m<=\u001b[0m \u001b[0mresource_capacity\u001b[0m\u001b[1;33m[\u001b[0m\u001b[0mstart_date\u001b[0m\u001b[1;33m]\u001b[0m \u001b[1;32mfor\u001b[0m \u001b[0mr\u001b[0m \u001b[1;32min\u001b[0m \u001b[0mschedule\u001b[0m\u001b[1;33m[\u001b[0m\u001b[0mtask\u001b[0m\u001b[1;33m]\u001b[0m\u001b[1;33m[\u001b[0m\u001b[1;34m\"resource\"\u001b[0m\u001b[1;33m]\u001b[0m\u001b[1;33m)\u001b[0m\u001b[1;33m:\u001b[0m\u001b[1;33m\u001b[0m\u001b[1;33m\u001b[0m\u001b[0m\n\u001b[0m\u001b[0;32m     40\u001b[0m             \u001b[1;31m# Вычисляем время завершения задачи\u001b[0m\u001b[1;33m\u001b[0m\u001b[1;33m\u001b[0m\u001b[0m\n\u001b[0;32m     41\u001b[0m             \u001b[0mcompletion_time\u001b[0m \u001b[1;33m=\u001b[0m \u001b[0mstart_date\u001b[0m \u001b[1;33m+\u001b[0m \u001b[0mtask_duration\u001b[0m\u001b[1;33m[\u001b[0m\u001b[0mtask\u001b[0m\u001b[1;33m]\u001b[0m\u001b[1;33m\u001b[0m\u001b[1;33m\u001b[0m\u001b[0m\n",
      "\u001b[1;31mKeyError\u001b[0m: 'Task1'"
     ]
    }
   ],
   "source": [
    "def himadi_algorithm(tasks, resources, task_duration, resource_capacity):\n",
    "    # Сортируем задачи по убыванию отношения приоритета к длительности\n",
    "    sorted_tasks = sorted(tasks, key=lambda task: task_priority[task] / task_duration[task], reverse=True)\n",
    "\n",
    "    # Инициализируем расписание и используемые ресурсы\n",
    "    schedule = {}\n",
    "    used_resources = {resource: 0 for resource in resources}\n",
    "\n",
    "    # Проходим по отсортированным задачам и размещаем их в расписание\n",
    "    for task in sorted_tasks:\n",
    "        best_start_date = -1\n",
    "        best_resource = None\n",
    "        best_completion_time = float('inf')\n",
    "\n",
    "        # Перебираем доступные ресурсы\n",
    "        for resource in resources:\n",
    "            start_date, completion_time = find_best_start_date(task, resource, schedule, used_resources, resource_capacity)\n",
    "            if completion_time < best_completion_time:\n",
    "                best_start_date = start_date\n",
    "                best_resource = resource\n",
    "                best_completion_time = completion_time\n",
    "\n",
    "        # Размещаем задачу в расписании\n",
    "        schedule[task] = {\"start_date\": best_start_date, \"resource\": best_resource}\n",
    "        used_resources[best_resource] += task_duration[task]\n",
    "\n",
    "    return schedule\n",
    "\n",
    "def find_best_start_date(task, resource, schedule, used_resources, resource_capacity):\n",
    "    best_start_date = -1\n",
    "    best_completion_time = float('inf')\n",
    "\n",
    "    # Получаем множество времен начала выполнения задач в расписании\n",
    "    start_dates = {schedule.get(t, {\"start_date\": 0})[\"start_date\"] for t in schedule}\n",
    "\n",
    "    # Выбираем начальную дату, начиная с максимума из использованных ресурсов и времен начала задач в расписании\n",
    "    for start_date in range(max(used_resources[resource], max(start_dates, default=0)), len(resource_capacity) - task_duration[task] + 1):\n",
    "        # Проверяем, есть ли достаточно ресурсов для выполнения задачи\n",
    "        if all(used_resources[r] + sum(1 for t in schedule if start_date <= schedule[t][\"start_date\"] < start_date + task_duration[task]) <= resource_capacity[start_date] for r in schedule[task][\"resource\"]):\n",
    "            # Вычисляем время завершения задачи\n",
    "            completion_time = start_date + task_duration[task]\n",
    "\n",
    "            # Если это лучший вариант, сохраняем результаты\n",
    "            if completion_time < best_completion_time:\n",
    "                best_start_date = start_date\n",
    "                best_completion_time = completion_time\n",
    "\n",
    "    return best_start_date, best_completion_time\n",
    "\n",
    "\n",
    "# Пример использования\n",
    "tasks = [\"Task1\", \"Task2\", \"Task3\"]\n",
    "resources = [\"Resource1\", \"Resource2\"]\n",
    "task_duration = {\"Task1\": 2, \"Task2\": 3, \"Task3\": 1}\n",
    "task_priority = {\"Task1\": 3, \"Task2\": 2, \"Task3\": 1}\n",
    "resource_capacity = {0: 2, 1: 2, 2: 1, 3: 1, 4: 2}\n",
    "\n",
    "result = himadi_algorithm(tasks, resources, task_duration, resource_capacity)\n",
    "print(result)\n"
   ]
  },
  {
   "cell_type": "code",
   "execution_count": null,
   "id": "1d7ea7d0",
   "metadata": {},
   "outputs": [],
   "source": []
  }
 ],
 "metadata": {
  "kernelspec": {
   "display_name": "Python 3 (ipykernel)",
   "language": "python",
   "name": "python3"
  },
  "language_info": {
   "codemirror_mode": {
    "name": "ipython",
    "version": 3
   },
   "file_extension": ".py",
   "mimetype": "text/x-python",
   "name": "python",
   "nbconvert_exporter": "python",
   "pygments_lexer": "ipython3",
   "version": "3.9.7"
  }
 },
 "nbformat": 4,
 "nbformat_minor": 5
}
