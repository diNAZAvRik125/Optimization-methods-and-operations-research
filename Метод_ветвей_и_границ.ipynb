{
 "cells": [
  {
   "cell_type": "code",
   "execution_count": 1,
   "id": "dac353f4",
   "metadata": {},
   "outputs": [],
   "source": [
    "import numpy as np\n",
    "from itertools import permutations"
   ]
  },
  {
   "cell_type": "code",
   "execution_count": 2,
   "id": "5c6ec5d7",
   "metadata": {},
   "outputs": [],
   "source": [
    "def tsp_branch_and_bound(matrix):\n",
    "    n = len(matrix)\n",
    "    \n",
    "    # Создаем матрицу для хранения оценок\n",
    "    estimate_matrix = np.zeros((n, n))\n",
    "    \n",
    "    # Функция для расчета оценки для каждой строки\n",
    "    def calculate_estimate(row):\n",
    "        return np.min([row[i] for i in range(n) if i != row[0]])\n",
    "    \n",
    "    # Функция для обновления матрицы оценок\n",
    "    def update_estimate():\n",
    "        for i in range(n):\n",
    "            estimate_matrix[i, :] = calculate_estimate(matrix[i, :])\n",
    "    \n",
    "    # Исходная матрица оценок\n",
    "    update_estimate()\n",
    "    \n",
    "    # Начальный путь\n",
    "    initial_path = list(range(n))\n",
    "    current_path = initial_path.copy()\n",
    "    \n",
    "    # Исходная оценка\n",
    "    current_estimate = 0\n",
    "    \n",
    "    # Список для хранения лучшего пути\n",
    "    best_path = None\n",
    "    best_distance = float('inf')\n",
    "    \n",
    "    # Стек для хранения состояний\n",
    "    stack = []\n",
    "    \n",
    "    while True:\n",
    "        # Индекс текущей вершины в пути\n",
    "        current_vertex = len(current_path) - 1\n",
    "        \n",
    "        # Если достигли конца пути\n",
    "        if current_vertex == n - 1:\n",
    "            # Проверяем, является ли текущий путь лучшим\n",
    "            current_distance = sum(matrix[i, j] for i, j in zip(current_path[:-1], current_path[1:]))\n",
    "            current_distance += matrix[current_path[-1], current_path[0]]\n",
    "            \n",
    "            if current_distance < best_distance:\n",
    "                best_distance = current_distance\n",
    "                best_path = current_path.copy()\n",
    "            \n",
    "            # Возвращаемся к предыдущему состоянию\n",
    "            if not stack:\n",
    "                break\n",
    "            \n",
    "            current_vertex, current_path, current_estimate = stack.pop()\n",
    "            continue\n",
    "        \n",
    "        # Вычисляем оценку для текущей вершины\n",
    "        current_estimate += estimate_matrix[current_path[current_vertex], current_path[current_vertex + 1]]\n",
    "        \n",
    "        # Если оценка превышает лучшее расстояние, возвращаемся к предыдущему состоянию\n",
    "        if current_estimate >= best_distance:\n",
    "            if not stack:\n",
    "                break\n",
    "            current_vertex, current_path, current_estimate = stack.pop()\n",
    "            continue\n",
    "        \n",
    "        # Добавляем новое состояние в стек\n",
    "        stack.append((current_vertex, current_path.copy(), current_estimate))\n",
    "        \n",
    "        # Переходим к следующей вершине\n",
    "        current_path.append(-1)\n",
    "        while current_path[-1] == -1:\n",
    "            current_path[current_vertex + 1] += 1\n",
    "            if current_path[current_vertex + 1] == n:\n",
    "                current_path[current_vertex + 1] = -1\n",
    "                current_vertex -= 1\n",
    "                current_path.pop()\n",
    "            elif current_path[current_vertex + 1] not in current_path[:current_vertex + 1]:\n",
    "                current_vertex += 1\n",
    "        \n",
    "        # Обновляем оценки для следующей вершины\n",
    "        update_estimate()\n",
    "    \n",
    "    return best_path, best_distance"
   ]
  },
  {
   "cell_type": "code",
   "execution_count": 3,
   "id": "3771f4e5",
   "metadata": {},
   "outputs": [],
   "source": [
    "# Матрица расстояний\n",
    "distance_matrix = np.array([[0, 8, 15, 20],\n",
    "                            [8, 0, 10, 12],\n",
    "                            [15, 10, 0, 18],\n",
    "                            [20, 12, 18, 0]])"
   ]
  },
  {
   "cell_type": "code",
   "execution_count": 4,
   "id": "79030dab",
   "metadata": {},
   "outputs": [
    {
     "name": "stdout",
     "output_type": "stream",
     "text": [
      "Best Path: [0, 1, 2, 3]\n",
      "Best Distance: 56\n"
     ]
    }
   ],
   "source": [
    "best_path, best_distance = tsp_branch_and_bound(distance_matrix)\n",
    "print(\"Best Path:\", best_path)\n",
    "print(\"Best Distance:\", best_distance)"
   ]
  },
  {
   "cell_type": "code",
   "execution_count": 5,
   "id": "c008cadf",
   "metadata": {},
   "outputs": [],
   "source": [
    "# Входная матрица расстояний\n",
    "distance_matrix_1 = np.array([[0, 8, 15, 20, 10, 12, 18, 25, 22, 30, 28, 35],\n",
    "                            [8, 0, 10, 12, 6, 15, 28, 30, 18, 25, 22, 28],\n",
    "                            [15, 10, 0, 18, 10, 22, 25, 8, 28, 35, 30, 20],\n",
    "                            [20, 12, 18, 0, 7, 30, 22, 15, 10, 18, 25, 28],\n",
    "                            [10, 6, 10, 7, 0, 18, 12, 20, 25, 28, 35, 22],\n",
    "                            [12, 15, 22, 30, 18, 0, 10, 22, 28, 20, 15, 8],\n",
    "                            [18, 28, 25, 22, 12, 10, 0, 35, 20, 12, 30, 18],\n",
    "                            [25, 30, 8, 15, 20, 22, 35, 0, 28, 18, 12, 10],\n",
    "                            [22, 18, 28, 10, 25, 28, 20, 28, 0, 30, 22, 15],\n",
    "                            [30, 25, 35, 18, 28, 20, 12, 18, 30, 0, 15, 10],\n",
    "                            [28, 22, 30, 25, 35, 15, 30, 12, 22, 15, 0, 18],\n",
    "                            [35, 28, 20, 28, 22, 8, 18, 10, 15, 10, 18, 0]])"
   ]
  },
  {
   "cell_type": "code",
   "execution_count": 6,
   "id": "8e18cf17",
   "metadata": {},
   "outputs": [
    {
     "name": "stdout",
     "output_type": "stream",
     "text": [
      "Best Path: [0, 1, 2, 3, 4, 5, 6, 7, 8, 9, 10, 11]\n",
      "Best Distance: 232\n"
     ]
    }
   ],
   "source": [
    "best_path_1, best_distance_1 = tsp_branch_and_bound(distance_matrix_1)\n",
    "print(\"Best Path:\", best_path_1)\n",
    "print(\"Best Distance:\", best_distance_1)"
   ]
  },
  {
   "cell_type": "code",
   "execution_count": null,
   "id": "00d30a8e",
   "metadata": {},
   "outputs": [],
   "source": []
  }
 ],
 "metadata": {
  "kernelspec": {
   "display_name": "Python 3 (ipykernel)",
   "language": "python",
   "name": "python3"
  },
  "language_info": {
   "codemirror_mode": {
    "name": "ipython",
    "version": 3
   },
   "file_extension": ".py",
   "mimetype": "text/x-python",
   "name": "python",
   "nbconvert_exporter": "python",
   "pygments_lexer": "ipython3",
   "version": "3.9.7"
  }
 },
 "nbformat": 4,
 "nbformat_minor": 5
}
