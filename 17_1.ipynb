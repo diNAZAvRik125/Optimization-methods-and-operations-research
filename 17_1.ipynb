{
 "cells": [
  {
   "attachments": {
    "image.png": {
     "image/png": "[encoded data removed]"
    }
   },
   "cell_type": "markdown",
   "id": "58bac443",
   "metadata": {},
   "source": [
    "### Задача F3|Cmax (Flowshop Scheduling Problem с тремя машинами и целью минимизации максимального времени завершения) формулируется следующим образом:\n",
    "\n",
    "### Дано:\n",
    "\n",
    "### Множество задач $J = {1, 2, ..., n}$, где $n$ - количество задач.\n",
    "### Множество машин $M = {1, 2, 3}$, где $3$ - количество машин.\n",
    "### Времена обработки $p_{ij}$, где $i \\in J$ и $j \\in M$, представляют собой время, необходимое для обработки задачи $i$ на машине $j$.\n",
    "### Цель:\n",
    "### Минимизировать максимальное время завершения (makespan) для данного расписания.\n",
    "\n",
    "### Переменные решения:\n",
    "### Последовательность задач на каждой из машин, то есть перестановки для каждой машины.\n",
    "### Ограничения:\n",
    "\n",
    "### Каждая задача должна быть обработана на каждой машине ровно один раз.\n",
    "### Задачи выполняются последовательно на каждой машине.\n",
    "### Целевая функция (makespan):\n",
    "\n",
    "![image.png](attachment:image.png)"
   ]
  },
  {
   "cell_type": "code",
   "execution_count": 14,
   "id": "e0f9d50b",
   "metadata": {},
   "outputs": [],
   "source": [
    "import random"
   ]
  },
  {
   "cell_type": "markdown",
   "id": "64ef4efe",
   "metadata": {},
   "source": [
    "### Эта функция генерирует случайное начальное решение, представляющее собой перестановку задач на машинах.\n",
    "### Принимает на вход количество задач n.\n",
    "### Возвращает список, представляющий случайную перестановку задач."
   ]
  },
  {
   "cell_type": "code",
   "execution_count": 15,
   "id": "968c1567",
   "metadata": {},
   "outputs": [],
   "source": [
    "def generate_random_solution(n):\n",
    "    return list(range(n))    "
   ]
  },
  {
   "cell_type": "markdown",
   "id": "81ce9732",
   "metadata": {},
   "source": [
    "### Эта функция вычисляет значение целевой функции Cmax для заданной перестановки задач и времен обработки на машинах.\n",
    "### Принимает на вход перестановку задач permutation и матрицу времен обработки processing_times.\n",
    "### Возвращает значение Cmax для данной перестановки."
   ]
  },
  {
   "cell_type": "code",
   "execution_count": 16,
   "id": "b1fdc33a",
   "metadata": {},
   "outputs": [],
   "source": [
    "def calculate_cmax(permutation, processing_times):\n",
    "    machines = len(processing_times)\n",
    "    jobs = len(permutation)\n",
    "    schedule = [[0] * machines for _ in range(jobs)]\n",
    "    for j in range(jobs):\n",
    "        for m in range(machines):\n",
    "            if j == 0 and m == 0:\n",
    "                schedule[j][m] = processing_times[m][permutation[j]]\n",
    "            elif j == 0:\n",
    "                schedule[j][m] = schedule[j][m - 1] + processing_times[m][permutation[j]]\n",
    "            elif m == 0:\n",
    "                schedule[j][m] = schedule[j - 1][m] + processing_times[m][permutation[j]]\n",
    "            else:\n",
    "                schedule[j][m] = max(schedule[j][m - 1], schedule[j - 1][m]) + processing_times[m][permutation[j]]\n",
    "\n",
    "    return schedule[jobs - 1][machines - 1]"
   ]
  },
  {
   "cell_type": "markdown",
   "id": "474af82a",
   "metadata": {},
   "source": [
    "### Эта функция выполняет операцию кроссовера между двумя родителями (перестановками задач).\n",
    "### Принимает на вход две перестановки родителей parent1 и parent2.\n",
    "### Возвращает две новые перестановки потомков."
   ]
  },
  {
   "cell_type": "code",
   "execution_count": 17,
   "id": "21a806e4",
   "metadata": {},
   "outputs": [],
   "source": [
    "def crossover(parent1, parent2):\n",
    "    point = random.randint(1, len(parent1) - 1)\n",
    "    child1 = parent1[:point] + [gene for gene in parent2 if gene not in parent1[:point]]\n",
    "    child2 = parent2[:point] + [gene for gene in parent1 if gene not in parent2[:point]]\n",
    "    return child1, child2"
   ]
  },
  {
   "cell_type": "markdown",
   "id": "0aea1292",
   "metadata": {},
   "source": [
    "### Эта функция выполняет операцию мутации для данной перестановки задач.\n",
    "### Принимает на вход перестановку задач solution.\n",
    "### Возвращает мутированную перестановку."
   ]
  },
  {
   "cell_type": "code",
   "execution_count": 18,
   "id": "fbb0eced",
   "metadata": {},
   "outputs": [],
   "source": [
    "def mutate(solution):\n",
    "    idx1, idx2 = random.sample(range(len(solution)), 2)\n",
    "    solution[idx1], solution[idx2] = solution[idx2], solution[idx1]\n",
    "    return solution"
   ]
  },
  {
   "cell_type": "markdown",
   "id": "3a7407df",
   "metadata": {},
   "source": [
    "### Эта функция реализует алгоритм локального поиска для задачи F3|Cmax.\n",
    "### Принимает на вход начальное решение initial_solution, матрицу времен обработки processing_times и максимальное количество итераций max_iterations.\n",
    "### Возвращает оптимальное решение и соответствующее значение Cmax после проведения локального поиска."
   ]
  },
  {
   "cell_type": "code",
   "execution_count": 19,
   "id": "cf9b2dbe",
   "metadata": {},
   "outputs": [],
   "source": [
    "def genetic_algorithm(processing_times, population_size=50, generations=1000):\n",
    "    jobs = len(processing_times[0])\n",
    "    population = [generate_random_solution(jobs) for _ in range(population_size)]\n",
    "    for generation in range(generations):\n",
    "        population = sorted(population, key=lambda x: calculate_cmax(x, processing_times))\n",
    "        elite = population[:int(0.1 * population_size)]\n",
    "        offspring = []\n",
    "        while len(offspring) < population_size - len(elite):\n",
    "            parent1, parent2 = random.sample(population, 2)\n",
    "            child1, child2 = crossover(parent1, parent2)\n",
    "            offspring.extend([child1, child2])\n",
    "        offspring = [mutate(individual) for individual in offspring]\n",
    "        population = elite + offspring\n",
    "    best_solution = min(population, key=lambda x: calculate_cmax(x, processing_times))\n",
    "    best_cmax = calculate_cmax(best_solution, processing_times)\n",
    "    return best_solution, best_cmax"
   ]
  },
  {
   "cell_type": "code",
   "execution_count": 20,
   "id": "a0fbccec",
   "metadata": {},
   "outputs": [
    {
     "name": "stdout",
     "output_type": "stream",
     "text": [
      "Оптимальная перестановка: [0, 1, 2]\n",
      "Оптимальное Cmax: 17\n"
     ]
    }
   ],
   "source": [
    "random.seed(42)\n",
    "jobs = 5\n",
    "machines = 3\n",
    "processing_times = [[2, 3, 1], [1, 2, 4], [3, 1, 2], [2, 4, 3], [4, 2, 1]]\n",
    "best_solution, best_cmax = genetic_algorithm(processing_times)\n",
    "print(\"Оптимальная перестановка:\", best_solution)\n",
    "print(\"Оптимальное Cmax:\", best_cmax)"
   ]
  },
  {
   "cell_type": "code",
   "execution_count": null,
   "id": "3aa9f4ca",
   "metadata": {},
   "outputs": [],
   "source": []
  },
  {
   "cell_type": "code",
   "execution_count": null,
   "id": "365d322d",
   "metadata": {},
   "outputs": [],
   "source": []
  },
  {
   "cell_type": "code",
   "execution_count": null,
   "id": "f37569b1",
   "metadata": {},
   "outputs": [],
   "source": []
  }
 ],
 "metadata": {
  "kernelspec": {
   "display_name": "Python 3 (ipykernel)",
   "language": "python",
   "name": "python3"
  },
  "language_info": {
   "codemirror_mode": {
    "name": "ipython",
    "version": 3
   },
   "file_extension": ".py",
   "mimetype": "text/x-python",
   "name": "python",
   "nbconvert_exporter": "python",
   "pygments_lexer": "ipython3",
   "version": "3.9.7"
  }
 },
 "nbformat": 4,
 "nbformat_minor": 5
}
