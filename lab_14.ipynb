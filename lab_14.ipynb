{
 "cells": [
  {
   "cell_type": "code",
   "execution_count": 44,
   "id": "22686499",
   "metadata": {},
   "outputs": [],
   "source": [
    "def johnson_algorithm(jobs):\n",
    "    jobs = sorted(jobs, key=lambda x: min(x))  # Сортировка задач по минимальному времени выполнения на машинах\n",
    "    schedule_1 = []   # Работы на машине 1\n",
    "    schedule_2 = []   # Работы на машине 2\n",
    "    for job in jobs:   # Распределение задач на две машины\n",
    "        if job[0] < job[1]:\n",
    "            schedule_1.append(job)  # Помещаем задачу в конец списка_1\n",
    "        else:\n",
    "            schedule_2.insert(0, job)  # Помещаем задачу в конец списка_2\n",
    "    summa = sum(job[0] for job in schedule_1) + sum(job[1] for job in schedule_2)\n",
    "    print('1 машина:', schedule_1)\n",
    "    print('2 машина:', schedule_2)\n",
    "    return schedule_1 + schedule_2, summa"
   ]
  },
  {
   "cell_type": "code",
   "execution_count": 45,
   "id": "02e167c5",
   "metadata": {},
   "outputs": [
    {
     "name": "stdout",
     "output_type": "stream",
     "text": [
      "1 машина: [(1, 5), (2, 4), (4, 7)]\n",
      "2 машина: [(3, 2)]\n"
     ]
    }
   ],
   "source": [
    "example_jobs = [(2, 4), (3, 2), (1, 5), (4, 7)]   #Наш пример\n",
    "schedule, C_max = johnson_algorithm(example_jobs)"
   ]
  },
  {
   "cell_type": "code",
   "execution_count": 46,
   "id": "5bc9e72c",
   "metadata": {},
   "outputs": [
    {
     "name": "stdout",
     "output_type": "stream",
     "text": [
      "Optimal Schedule: [(1, 5), (2, 4), (4, 7), (3, 2)]\n",
      "C_max: 9\n"
     ]
    }
   ],
   "source": [
    "print('Optimal Schedule:', schedule)\n",
    "print('C_max:', C_max)"
   ]
  },
  {
   "cell_type": "code",
   "execution_count": null,
   "id": "bdc15785",
   "metadata": {},
   "outputs": [],
   "source": []
  }
 ],
 "metadata": {
  "kernelspec": {
   "display_name": "Python 3 (ipykernel)",
   "language": "python",
   "name": "python3"
  },
  "language_info": {
   "codemirror_mode": {
    "name": "ipython",
    "version": 3
   },
   "file_extension": ".py",
   "mimetype": "text/x-python",
   "name": "python",
   "nbconvert_exporter": "python",
   "pygments_lexer": "ipython3",
   "version": "3.9.7"
  }
 },
 "nbformat": 4,
 "nbformat_minor": 5
}
