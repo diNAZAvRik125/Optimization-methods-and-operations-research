{
 "cells": [
  {
   "cell_type": "markdown",
   "id": "6633724e",
   "metadata": {},
   "source": [
    "## 3 вопрос ##\n",
    "\n",
    "((z * Con_p2 + (x * A_p2 + y * B_p2 + f) - z) * p2_c + g * p1_Hc + k * p1_Mc + (obj1 + p - g - k) * p1_Sc) - \n",
    "               (x * a_c + y * b_c + (x + y) * С + z * Con_c + obj1 * Filt_c + f * p2_p + p * p1_p"
   ]
  },
  {
   "cell_type": "code",
   "execution_count": 15,
   "id": "1d55300b",
   "metadata": {},
   "outputs": [],
   "source": [
    "import numpy as np\n",
    "import gurobipy as gp\n",
    "import math as m\n",
    "from gurobipy import GRB"
   ]
  },
  {
   "cell_type": "code",
   "execution_count": 16,
   "id": "9df3e415",
   "metadata": {},
   "outputs": [],
   "source": [
    "A_S = 3.25\n",
    "B_S = 3.40\n",
    "A_w = 100000\n",
    "B_w = 30000\n",
    "W = 100000\n",
    "С = 0.35\n",
    "A_p1 = 0.15\n",
    "A_p2 = 0.85\n",
    "B_p1 = 0.25\n",
    "B_p2 = 0.75\n",
    "Con_W = 50000\n",
    "Con_S = 0.25\n",
    "Con_p1 = 0.5\n",
    "Con_p2 = 0.5\n",
    "Filt_c = 0.1\n",
    "p2_c = 3.80\n",
    "H = 45000\n",
    "M = 4000\n",
    "p1_Hc = 5.50\n",
    "p1_Mc = 5.2\n",
    "p1_Sc = 5.0\n",
    "P1 = 40000\n",
    "P2 = 4000\n",
    "p1_p = 5.75\n",
    "p2_p = 4.00\n",
    "Filt_w =10000"
   ]
  },
  {
   "cell_type": "code",
   "execution_count": 17,
   "id": "0996594b",
   "metadata": {},
   "outputs": [
    {
     "name": "stdout",
     "output_type": "stream",
     "text": [
      "Maximize\n",
      "0.365 buyRa + 0.32499999999999973 buyRb + 0.5 sellH + 0.20000000000000018 sellM +\n",
      "-0.75 buy1 + -0.20000000000000018 buy2 + 0.3500000000000001 Convert2\n",
      "Subject To\n",
      "  R0: Convert2 <= 50000\n",
      "  R1: buyRa + buyRb <= 100000\n",
      "  R2: 0.15 buyRa + 0.25 buyRb <= 10000\n",
      "  R3: 0.15 buyRa + 0.25 buyRb + buy1 + 0.5 Convert2 >= 40000\n",
      "  R4: 0.15 buyRa + 0.25 buyRb + -1.0 sellH + -1.0 sellM + buy1 + 0.5 Convert2 >= 0\n",
      "  R5: -0.85 buyRa + -0.75 buyRb + -1.0 buy2 + Convert2 <= 0\n",
      "  R6: buyRa <= 100000\n",
      "  R7: buyRb <= 30000\n",
      "  R8: sellH <= 45000\n",
      "  R9: sellM <= 4000\n",
      "General Integers\n",
      "  ['buyRa', 'buyRb', 'sellH', 'sellM', 'buy1', 'buy2', 'Convert2']\n",
      "None\n",
      "Gurobi Optimizer version 10.0.0 build v10.0.0rc2 (win64)\n",
      "\n",
      "CPU model: AMD Ryzen 7 4800HS with Radeon Graphics, instruction set [SSE2|AVX|AVX2]\n",
      "Thread count: 8 physical cores, 16 logical processors, using up to 16 threads\n",
      "\n",
      "Optimize a model with 10 rows, 7 columns and 23 nonzeros\n",
      "Model fingerprint: 0x2f54c8ab\n",
      "Variable types: 0 continuous, 7 integer (0 binary)\n",
      "Coefficient statistics:\n",
      "  Matrix range     [1e-01, 1e+00]\n",
      "  Objective range  [2e-01, 8e-01]\n",
      "  Bounds range     [0e+00, 0e+00]\n",
      "  RHS range        [4e+03, 1e+05]\n",
      "Found heuristic solution: objective 35882.340000\n",
      "Presolve removed 6 rows and 1 columns\n",
      "Presolve time: 0.00s\n",
      "Presolved: 4 rows, 6 columns, 13 nonzeros\n",
      "Found heuristic solution: objective 54632.590000\n",
      "Variable types: 0 continuous, 6 integer (0 binary)\n",
      "Found heuristic solution: objective 54633.140000\n",
      "\n",
      "Root relaxation: objective 5.808322e+04, 2 iterations, 0.00 seconds (0.00 work units)\n",
      "\n",
      "    Nodes    |    Current Node    |     Objective Bounds      |     Work\n",
      " Expl Unexpl |  Obj  Depth IntInf | Incumbent    BestBd   Gap | It/Node Time\n",
      "\n",
      "     0     0 58083.2200    0    1 54633.1400 58083.2200  6.31%     -    0s\n",
      "H    0     0                    58082.340000 58083.2200  0.00%     -    0s\n",
      "\n",
      "Explored 1 nodes (2 simplex iterations) in 0.02 seconds (0.00 work units)\n",
      "Thread count was 16 (of 16 available processors)\n",
      "\n",
      "Solution count 4: 58082.3 54633.1 54632.6 35882.3 \n",
      "\n",
      "Optimal solution found (tolerance 1.00e-04)\n",
      "Best objective 5.808234000000e+04, best bound 5.808322000000e+04, gap 0.0015%\n"
     ]
    }
   ],
   "source": [
    "a = gp.Model(\"fabric\")\n",
    "\n",
    "x = a.addVar(vtype = GRB.INTEGER, name = \"buyRa\")\n",
    "y = a.addVar(vtype = GRB.INTEGER, name = \"buyRb\")\n",
    "g = a.addVar(vtype = GRB.INTEGER, name = \"sellH\")\n",
    "k = a.addVar(vtype = GRB.INTEGER, name = \"sellM\")\n",
    "p = a.addVar(vtype = GRB.INTEGER, name = \"buy1\")\n",
    "f = a.addVar(vtype = GRB.INTEGER, name = \"buy2\")\n",
    "z = a.addVar(vtype = GRB.INTEGER, name = \"Convert2\")\n",
    "\n",
    "obj_= x * A_p2 + y * B_p2 + f\n",
    "obj1 = x * A_p1 + y * B_p1 + z * Con_p1\n",
    "obj2 = z * Con_p2 + obj_ - z\n",
    "\n",
    "a.setObjective((obj2 * p2_c + g * p1_Hc + k * p1_Mc + (obj1 + p - g - k) * p1_Sc) - \n",
    "               (x * A_S + y * B_S + (x + y) * С + z * Con_S + (obj1 - z * Con_p1) * Filt_c + f * p2_p + p * p1_p), GRB.MAXIMIZE)\n",
    "\n",
    "a.addConstr(z <= Con_W)\n",
    "\n",
    "a.addConstr(x + y <= W)\n",
    "a.addConstr(obj1 - z*Con_p1 <= Filt_w)\n",
    "a.addConstr(obj1 + p >= P1)\n",
    "a.addConstr(obj1 + p - g - k >= 0)\n",
    "\n",
    "a.addConstr(z <= obj_)\n",
    "a.addConstr(x <= A_w)\n",
    "a.addConstr(y <= B_w)\n",
    "a.addConstr(g <= H)\n",
    "a.addConstr(k <= M)\n",
    "\n",
    "a.update()\n",
    "print(a.display())\n",
    "a.optimize()"
   ]
  },
  {
   "cell_type": "code",
   "execution_count": 18,
   "id": "83cacdd4",
   "metadata": {},
   "outputs": [
    {
     "name": "stdout",
     "output_type": "stream",
     "text": [
      "\n",
      "Profit: 58082.3\n",
      "buyRa 66666\n",
      "buyRb 0\n",
      "sellH 40000\n",
      "sellM -0\n",
      "buy1 5001\n",
      "buy2 -0\n",
      "Convert2 50000\n"
     ]
    }
   ],
   "source": [
    "if a.status == GRB.OPTIMAL:\n",
    "    print('\\nProfit: %g' % a.objVal)\n",
    "    for v in a.getVars():\n",
    "        print('%s %g' % (v.varName, v.x))\n",
    "else:\n",
    "    print('No solution')"
   ]
  },
  {
   "cell_type": "code",
   "execution_count": null,
   "id": "752d398d",
   "metadata": {},
   "outputs": [],
   "source": []
  }
 ],
 "metadata": {
  "kernelspec": {
   "display_name": "Python 3 (ipykernel)",
   "language": "python",
   "name": "python3"
  },
  "language_info": {
   "codemirror_mode": {
    "name": "ipython",
    "version": 3
   },
   "file_extension": ".py",
   "mimetype": "text/x-python",
   "name": "python",
   "nbconvert_exporter": "python",
   "pygments_lexer": "ipython3",
   "version": "3.9.7"
  }
 },
 "nbformat": 4,
 "nbformat_minor": 5
}
