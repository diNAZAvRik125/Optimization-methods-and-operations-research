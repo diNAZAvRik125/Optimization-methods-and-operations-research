{
 "cells": [
  {
   "cell_type": "code",
   "execution_count": 34,
   "id": "712fba4a",
   "metadata": {},
   "outputs": [],
   "source": [
    "import gurobipy as gp\n",
    "import numpy as np\n",
    "from gurobipy import GRB"
   ]
  },
  {
   "cell_type": "code",
   "execution_count": 41,
   "id": "6715ecc1",
   "metadata": {},
   "outputs": [],
   "source": [
    "Y = 24\n",
    "R = np.array([20, 45, 31, 5, 76, 12, 34, 11, 55, 61, 27, 41, 22, 10, 18, 19, 20, 81, 13, 23, 41, 50, 23, 14])\n",
    "S = 19\n",
    "M = np.array([39, 56, 50, 45, 31, 35, 32, 55, 58, 49, 47, 35, 45, 40, 59, 47, 47, 37, 47, 52, 30, 37, 59, 58])\n",
    "P = np.array([19, 18, 26, 17, 22, 23, 20, 17, 27, 19, 24, 17, 17, 18, 28, 20, 24, 21, 19, 26, 26, 28, 27, 24])\n",
    "C = np.array([578, 632, 579, 570, 525, 489, 443, 654, 504, 495, 684, 464, 514, 614, 654, 527, 410, 431, 409, 503, 534, 558, 546, 540])"
   ]
  },
  {
   "cell_type": "code",
   "execution_count": null,
   "id": "eb7c6b98",
   "metadata": {},
   "outputs": [],
   "source": []
  },
  {
   "cell_type": "code",
   "execution_count": 48,
   "id": "1d34609c",
   "metadata": {},
   "outputs": [
    {
     "name": "stdout",
     "output_type": "stream",
     "text": [
      "Gurobi Optimizer version 10.0.0 build v10.0.0rc2 (win64)\n",
      "\n",
      "CPU model: AMD Ryzen 7 4800HS with Radeon Graphics, instruction set [SSE2|AVX|AVX2]\n",
      "Thread count: 8 physical cores, 16 logical processors, using up to 16 threads\n",
      "\n",
      "Optimize a model with 1 rows, 24 columns and 24 nonzeros\n",
      "Model fingerprint: 0xd476dc7b\n",
      "Variable types: 0 continuous, 24 integer (24 binary)\n",
      "Coefficient statistics:\n",
      "  Matrix range     [2e+00, 4e+00]\n",
      "  Objective range  [4e+02, 7e+02]\n",
      "  Bounds range     [1e+00, 1e+00]\n",
      "  RHS range        [2e+01, 2e+01]\n",
      "Found heuristic solution: objective 3593.0000000\n",
      "Presolve removed 1 rows and 24 columns\n",
      "Presolve time: 0.00s\n",
      "Presolve: All rows and columns removed\n",
      "\n",
      "Explored 0 nodes (0 simplex iterations) in 0.01 seconds (0.00 work units)\n",
      "Thread count was 1 (of 16 available processors)\n",
      "\n",
      "Solution count 2: 4657 3593 \n",
      "\n",
      "Optimal solution found (tolerance 1.00e-04)\n",
      "Best objective 4.657000000000e+03, best bound 4.657000000000e+03, gap 0.0000%\n"
     ]
    }
   ],
   "source": [
    "problem = gp.Model('DistributionProblem')\n",
    "x = problem.addVars(range(Y), vtype=gp.GRB.BINARY, name=\"x\")\n",
    "\n",
    "\n",
    "obj =  gp.LinExpr(C, x.values())\n",
    "obj_2  = gp.LinExpr(R, x.values())\n",
    "obj_3 = obj - obj_2\n",
    "problem.setObjective(obj_3, gp.GRB.MAXIMIZE)\n",
    "\n",
    "\n",
    "\n",
    "problem.addConstr(gp.LinExpr(np.ceil(M/P), x.values()) <= S) # докидываем ограничение\n",
    "problem.update() \n",
    "problem.optimize()"
   ]
  },
  {
   "cell_type": "code",
   "execution_count": 49,
   "id": "f7ae0ef0",
   "metadata": {},
   "outputs": [
    {
     "name": "stdout",
     "output_type": "stream",
     "text": [
      "\n",
      "Cost: 4657\n",
      "\n",
      "Bag:\n",
      "3\n",
      "5\n",
      "6\n",
      "7\n",
      "11\n",
      "15\n"
     ]
    }
   ],
   "source": [
    "if problem.status == GRB.OPTIMAL:\n",
    "    print('\\nCost: %g' % problem.objVal)\n",
    "    print('\\nBag:')\n",
    "    subjects = problem.getAttr('x', x)\n",
    "    for i in range(S):\n",
    "        if subjects[i] > 0.0001:\n",
    "            print((i + 1))\n",
    "else:\n",
    "    print('No solution')"
   ]
  },
  {
   "cell_type": "code",
   "execution_count": 50,
   "id": "26c8e548",
   "metadata": {},
   "outputs": [
    {
     "name": "stdout",
     "output_type": "stream",
     "text": [
      "Obj: 4657\n"
     ]
    },
    {
     "data": {
      "text/plain": [
       "[<gurobi.Var x[0] (value 0.0)>,\n",
       " <gurobi.Var x[1] (value 0.0)>,\n",
       " <gurobi.Var x[2] (value 1.0)>,\n",
       " <gurobi.Var x[3] (value 0.0)>,\n",
       " <gurobi.Var x[4] (value 1.0)>,\n",
       " <gurobi.Var x[5] (value 1.0)>,\n",
       " <gurobi.Var x[6] (value 1.0)>,\n",
       " <gurobi.Var x[7] (value 0.0)>,\n",
       " <gurobi.Var x[8] (value 0.0)>,\n",
       " <gurobi.Var x[9] (value 0.0)>,\n",
       " <gurobi.Var x[10] (value 1.0)>,\n",
       " <gurobi.Var x[11] (value 0.0)>,\n",
       " <gurobi.Var x[12] (value 0.0)>,\n",
       " <gurobi.Var x[13] (value 0.0)>,\n",
       " <gurobi.Var x[14] (value 1.0)>,\n",
       " <gurobi.Var x[15] (value 0.0)>,\n",
       " <gurobi.Var x[16] (value 0.0)>,\n",
       " <gurobi.Var x[17] (value 0.0)>,\n",
       " <gurobi.Var x[18] (value 0.0)>,\n",
       " <gurobi.Var x[19] (value 1.0)>,\n",
       " <gurobi.Var x[20] (value 1.0)>,\n",
       " <gurobi.Var x[21] (value 1.0)>,\n",
       " <gurobi.Var x[22] (value 0.0)>,\n",
       " <gurobi.Var x[23] (value 0.0)>]"
      ]
     },
     "execution_count": 50,
     "metadata": {},
     "output_type": "execute_result"
    }
   ],
   "source": [
    "print('Obj: %g' % obj_3.getValue())\n",
    "problem.getVars()"
   ]
  },
  {
   "cell_type": "code",
   "execution_count": null,
   "id": "fcd503a3",
   "metadata": {},
   "outputs": [],
   "source": []
  }
 ],
 "metadata": {
  "kernelspec": {
   "display_name": "Python 3 (ipykernel)",
   "language": "python",
   "name": "python3"
  },
  "language_info": {
   "codemirror_mode": {
    "name": "ipython",
    "version": 3
   },
   "file_extension": ".py",
   "mimetype": "text/x-python",
   "name": "python",
   "nbconvert_exporter": "python",
   "pygments_lexer": "ipython3",
   "version": "3.9.7"
  }
 },
 "nbformat": 4,
 "nbformat_minor": 5
}
