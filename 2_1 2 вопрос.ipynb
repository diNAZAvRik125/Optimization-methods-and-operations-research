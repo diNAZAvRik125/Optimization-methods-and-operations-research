{
 "cells": [
  {
   "cell_type": "code",
   "execution_count": 1,
   "id": "432b26f7",
   "metadata": {},
   "outputs": [],
   "source": [
    "import numpy as np\n",
    "import gurobipy as gb\n",
    "import math as m\n",
    "from gurobipy import GRB"
   ]
  },
  {
   "cell_type": "code",
   "execution_count": 2,
   "id": "6c9f22e9",
   "metadata": {},
   "outputs": [],
   "source": [
    "A_S = 3.25\n",
    "B_S = 3.40\n",
    "A_w = 100000\n",
    "B_w = 30000\n",
    "W = 100000\n",
    "С = 0.35\n",
    "A_p1 = 0.15\n",
    "A_p2 = 0.85\n",
    "B_p1 = 0.25\n",
    "B_p2 = 0.75\n",
    "Con_W = 50000\n",
    "Con_S = 0.25\n",
    "Con_p1 = 0.5\n",
    "Con_p2 = 0.5\n",
    "Filt_c = 0.1\n",
    "p2_c = 3.80\n",
    "H = 0\n",
    "M = 0\n",
    "p1_Hc = 5.50\n",
    "p1_Mc = 5.2\n",
    "p1_Sc = 5.0\n",
    "P1 = 40000\n",
    "P2 = 4000\n",
    "p1_p = 5.75\n",
    "p2_p = 4.00"
   ]
  },
  {
   "cell_type": "code",
   "execution_count": 3,
   "id": "f4d81d77",
   "metadata": {},
   "outputs": [
    {
     "name": "stdout",
     "output_type": "stream",
     "text": [
      "Restricted license - for non-production use only - expires 2024-10-28\n",
      "Minimize\n",
      "  5.0\n",
      "Subject To\n",
      "R0: 0.2649999999999999 buyRa + 0.22499999999999987 buyRb + -5.75 buy1 +\n",
      " -0.2999999999999998 buy2 + 0.30000000000000027 Convert2 >= 50000\n",
      "General Integers\n",
      "  ['buyRa', 'buyRb', 'sellH', 'sellM', 'buy1', 'buy2', 'Convert2', 'profit']\n",
      "None\n",
      "Gurobi Optimizer version 10.0.0 build v10.0.0rc2 (win64)\n",
      "\n",
      "CPU model: AMD Ryzen 7 4800HS with Radeon Graphics, instruction set [SSE2|AVX|AVX2]\n",
      "Thread count: 8 physical cores, 16 logical processors, using up to 16 threads\n",
      "\n",
      "Optimize a model with 1 rows, 8 columns and 5 nonzeros\n",
      "Model fingerprint: 0x1e8f7bb1\n",
      "Variable types: 0 continuous, 8 integer (0 binary)\n",
      "Coefficient statistics:\n",
      "  Matrix range     [2e-01, 6e+00]\n",
      "  Objective range  [0e+00, 0e+00]\n",
      "  Bounds range     [0e+00, 0e+00]\n",
      "  RHS range        [5e+04, 5e+04]\n",
      "Found heuristic solution: objective 5.0000000\n",
      "\n",
      "Explored 0 nodes (0 simplex iterations) in 0.01 seconds (0.00 work units)\n",
      "Thread count was 1 (of 16 available processors)\n",
      "\n",
      "Solution count 1: 5 \n",
      "\n",
      "Optimal solution found (tolerance 1.00e-04)\n",
      "Best objective 5.000000000000e+00, best bound 5.000000000000e+00, gap 0.0000%\n"
     ]
    }
   ],
   "source": [
    "q = gb.Model(\"fabric_2\")\n",
    "\n",
    "x = q.addVar(vtype = GRB.INTEGER, name = \"buyRa\")\n",
    "y = q.addVar(vtype = GRB.INTEGER, name = \"buyRb\")\n",
    "g = q.addVar(vtype = GRB.INTEGER, name = \"sellH\")\n",
    "k = q.addVar(vtype = GRB.INTEGER, name = \"sellM\")\n",
    "p = q.addVar(vtype = GRB.INTEGER, name = \"buy1\")\n",
    "f = q.addVar(vtype = GRB.INTEGER, name = \"buy2\")\n",
    "z = q.addVar(vtype = GRB.INTEGER, name = \"Convert2\")\n",
    "profit = q.addVar(vtype = GRB.INTEGER, name = \"profit\")\n",
    "\n",
    "obj_= x * A_p2 + y * B_p2\n",
    "obj1 = (x * A_p1 + y * B_p1 + z * Con_p1)\n",
    "obj2 = z * Con_p2 + obj_ - z + f\n",
    "\n",
    "profit = obj2 * p2_c + p1_Sc*obj1\n",
    "profit -= x * A_S\n",
    "profit -= y * B_S\n",
    "profit -= (x + y) * С\n",
    "profit -= z * Con_S\n",
    "profit -= obj1 * Filt_c\n",
    "profit -= obj2*Filt_c + obj1*Filt_c\n",
    "profit -= p * p1_p\n",
    "profit -= f * p2_p\n",
    "\n",
    "q.addConstr(profit >= 50000)\n",
    "\n",
    "q.setObjective(p1_Sc, GRB.MINIMIZE)\n",
    "q.update()\n",
    "print(q.display())\n",
    "q.optimize()"
   ]
  },
  {
   "cell_type": "code",
   "execution_count": 4,
   "id": "cb21c5c2",
   "metadata": {},
   "outputs": [
    {
     "name": "stdout",
     "output_type": "stream",
     "text": [
      "\n",
      "Profit: 5\n",
      "5.0\n",
      "buyRa 2e+09\n",
      "buyRb 2e+09\n",
      "sellH 2e+09\n",
      "sellM 2e+09\n",
      "buy1 0\n",
      "buy2 0\n",
      "Convert2 2e+09\n",
      "profit 2e+09\n"
     ]
    }
   ],
   "source": [
    "if q.status == GRB.OPTIMAL:\n",
    "    print('\\nProfit: %g' % q.objVal)\n",
    "    print(p1_Sc)\n",
    "    for v in q.getVars():\n",
    "        print('%s %g' % (v.varName, v.x))\n",
    "else:\n",
    "    print('No solution')"
   ]
  },
  {
   "cell_type": "code",
   "execution_count": null,
   "id": "306557d1",
   "metadata": {},
   "outputs": [],
   "source": []
  }
 ],
 "metadata": {
  "kernelspec": {
   "display_name": "Python 3 (ipykernel)",
   "language": "python",
   "name": "python3"
  },
  "language_info": {
   "codemirror_mode": {
    "name": "ipython",
    "version": 3
   },
   "file_extension": ".py",
   "mimetype": "text/x-python",
   "name": "python",
   "nbconvert_exporter": "python",
   "pygments_lexer": "ipython3",
   "version": "3.9.7"
  }
 },
 "nbformat": 4,
 "nbformat_minor": 5
}
