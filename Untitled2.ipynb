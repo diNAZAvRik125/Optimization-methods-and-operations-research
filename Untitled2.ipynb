{
 "cells": [
  {
   "cell_type": "code",
   "execution_count": null,
   "id": "9dc54196",
   "metadata": {},
   "outputs": [],
   "source": []
  },
  {
   "cell_type": "code",
   "execution_count": 1,
   "id": "1e3fd363",
   "metadata": {},
   "outputs": [],
   "source": [
    "import numpy as np\n",
    "import pandas as pd"
   ]
  },
  {
   "cell_type": "code",
   "execution_count": 2,
   "id": "e08b21ef",
   "metadata": {},
   "outputs": [
    {
     "name": "stdout",
     "output_type": "stream",
     "text": [
      "     Facility  Client  Transportation Cost\n",
      "0           1      20                    4\n",
      "1           1      21                    1\n",
      "2           1      22                    3\n",
      "3           1      33                    3\n",
      "4           1      62                    4\n",
      "..        ...     ...                  ...\n",
      "993       100      52                    4\n",
      "994       100      57                    1\n",
      "995       100      60                    2\n",
      "996       100      62                    1\n",
      "997       100      79                    0\n",
      "\n",
      "[998 rows x 3 columns]\n"
     ]
    }
   ],
   "source": [
    "file_path = 'instances_labs/18.txt'\n",
    "data = pd.read_csv(file_path, delim_whitespace=True, skiprows=1, index_col=False)\n",
    "data.columns = ['Facility', 'Client','Transportation Cost']\n",
    "print(data)"
   ]
  },
  {
   "cell_type": "code",
   "execution_count": 3,
   "id": "19d5639e",
   "metadata": {},
   "outputs": [],
   "source": [
    "Dimension = 100 \n",
    "Fixed_Cost = 3000"
   ]
  },
  {
   "cell_type": "code",
   "execution_count": 4,
   "id": "7e6da065",
   "metadata": {},
   "outputs": [],
   "source": [
    "num_facilities = len(data['Facility'])\n",
    "num_locations = 998\n",
    "placement_costs = np.zeros((num_facilities, num_locations))\n",
    "\n",
    "placement_costs = data['Transportation Cost'].items()"
   ]
  },
  {
   "cell_type": "code",
   "execution_count": 5,
   "id": "ff4864f0",
   "metadata": {},
   "outputs": [],
   "source": [
    "# Начальное решение (случайное размещение)\n",
    "initial_solution = np.random.choice(num_locations, size=Dimension, replace=True)"
   ]
  },
  {
   "cell_type": "code",
   "execution_count": 6,
   "id": "ba408b3d",
   "metadata": {},
   "outputs": [],
   "source": [
    "# Функция для вычисления общей стоимости размещения\n",
    "def calculate_total_cost(solution, costs):\n",
    "    total_cost = 0\n",
    "    for facility, location in enumerate(solution):\n",
    "        total_cost += costs[facility, location]\n",
    "    return total_cost"
   ]
  },
  {
   "cell_type": "code",
   "execution_count": 7,
   "id": "a7a8c57d",
   "metadata": {},
   "outputs": [],
   "source": [
    "# Локальный поиск\n",
    "def local_search(initial_solution, costs, max_iterations=1000):\n",
    "    current_solution = initial_solution.copy()\n",
    "    current_cost = calculate_total_cost(current_solution, costs)\n",
    "\n",
    "    for iteration in range(max_iterations):\n",
    "        # Генерация соседнего решения (случайная замена местоположения одного предприятия)\n",
    "        neighbor_solution = current_solution.copy()\n",
    "        facility_to_move = np.random.randint(num_facilities)\n",
    "        new_location = np.random.randint(num_locations)\n",
    "        neighbor_solution[facility_to_move] = new_location\n",
    "\n",
    "        # Вычисление стоимости соседнего решения\n",
    "        neighbor_cost = calculate_total_cost(neighbor_solution, costs)\n",
    "\n",
    "        # Принятие решения о переходе к соседнему решению, если оно лучше\n",
    "        if neighbor_cost < current_cost:\n",
    "            current_solution = neighbor_solution\n",
    "            current_cost = neighbor_cost\n",
    "\n",
    "    return current_solution, current_cost"
   ]
  },
  {
   "cell_type": "code",
   "execution_count": 8,
   "id": "f3d83ac1",
   "metadata": {},
   "outputs": [
    {
     "ename": "TypeError",
     "evalue": "'zip' object is not subscriptable",
     "output_type": "error",
     "traceback": [
      "\u001b[1;31m---------------------------------------------------------------------------\u001b[0m",
      "\u001b[1;31mTypeError\u001b[0m                                 Traceback (most recent call last)",
      "\u001b[1;32mC:\\Users\\5B34~1\\AppData\\Local\\Temp/ipykernel_65620/3749948746.py\u001b[0m in \u001b[0;36m<module>\u001b[1;34m\u001b[0m\n\u001b[0;32m      1\u001b[0m \u001b[1;31m# Применение локального поиска\u001b[0m\u001b[1;33m\u001b[0m\u001b[1;33m\u001b[0m\u001b[0m\n\u001b[1;32m----> 2\u001b[1;33m \u001b[0mfinal_solution\u001b[0m\u001b[1;33m,\u001b[0m \u001b[0mfinal_cost\u001b[0m \u001b[1;33m=\u001b[0m \u001b[0mlocal_search\u001b[0m\u001b[1;33m(\u001b[0m\u001b[0minitial_solution\u001b[0m\u001b[1;33m,\u001b[0m \u001b[0mplacement_costs\u001b[0m\u001b[1;33m)\u001b[0m\u001b[1;33m\u001b[0m\u001b[1;33m\u001b[0m\u001b[0m\n\u001b[0m",
      "\u001b[1;32mC:\\Users\\5B34~1\\AppData\\Local\\Temp/ipykernel_65620/3765048427.py\u001b[0m in \u001b[0;36mlocal_search\u001b[1;34m(initial_solution, costs, max_iterations)\u001b[0m\n\u001b[0;32m      2\u001b[0m \u001b[1;32mdef\u001b[0m \u001b[0mlocal_search\u001b[0m\u001b[1;33m(\u001b[0m\u001b[0minitial_solution\u001b[0m\u001b[1;33m,\u001b[0m \u001b[0mcosts\u001b[0m\u001b[1;33m,\u001b[0m \u001b[0mmax_iterations\u001b[0m\u001b[1;33m=\u001b[0m\u001b[1;36m1000\u001b[0m\u001b[1;33m)\u001b[0m\u001b[1;33m:\u001b[0m\u001b[1;33m\u001b[0m\u001b[1;33m\u001b[0m\u001b[0m\n\u001b[0;32m      3\u001b[0m     \u001b[0mcurrent_solution\u001b[0m \u001b[1;33m=\u001b[0m \u001b[0minitial_solution\u001b[0m\u001b[1;33m.\u001b[0m\u001b[0mcopy\u001b[0m\u001b[1;33m(\u001b[0m\u001b[1;33m)\u001b[0m\u001b[1;33m\u001b[0m\u001b[1;33m\u001b[0m\u001b[0m\n\u001b[1;32m----> 4\u001b[1;33m     \u001b[0mcurrent_cost\u001b[0m \u001b[1;33m=\u001b[0m \u001b[0mcalculate_total_cost\u001b[0m\u001b[1;33m(\u001b[0m\u001b[0mcurrent_solution\u001b[0m\u001b[1;33m,\u001b[0m \u001b[0mcosts\u001b[0m\u001b[1;33m)\u001b[0m\u001b[1;33m\u001b[0m\u001b[1;33m\u001b[0m\u001b[0m\n\u001b[0m\u001b[0;32m      5\u001b[0m \u001b[1;33m\u001b[0m\u001b[0m\n\u001b[0;32m      6\u001b[0m     \u001b[1;32mfor\u001b[0m \u001b[0miteration\u001b[0m \u001b[1;32min\u001b[0m \u001b[0mrange\u001b[0m\u001b[1;33m(\u001b[0m\u001b[0mmax_iterations\u001b[0m\u001b[1;33m)\u001b[0m\u001b[1;33m:\u001b[0m\u001b[1;33m\u001b[0m\u001b[1;33m\u001b[0m\u001b[0m\n",
      "\u001b[1;32mC:\\Users\\5B34~1\\AppData\\Local\\Temp/ipykernel_65620/249810218.py\u001b[0m in \u001b[0;36mcalculate_total_cost\u001b[1;34m(solution, costs)\u001b[0m\n\u001b[0;32m      3\u001b[0m     \u001b[0mtotal_cost\u001b[0m \u001b[1;33m=\u001b[0m \u001b[1;36m0\u001b[0m\u001b[1;33m\u001b[0m\u001b[1;33m\u001b[0m\u001b[0m\n\u001b[0;32m      4\u001b[0m     \u001b[1;32mfor\u001b[0m \u001b[0mfacility\u001b[0m\u001b[1;33m,\u001b[0m \u001b[0mlocation\u001b[0m \u001b[1;32min\u001b[0m \u001b[0menumerate\u001b[0m\u001b[1;33m(\u001b[0m\u001b[0msolution\u001b[0m\u001b[1;33m)\u001b[0m\u001b[1;33m:\u001b[0m\u001b[1;33m\u001b[0m\u001b[1;33m\u001b[0m\u001b[0m\n\u001b[1;32m----> 5\u001b[1;33m         \u001b[0mtotal_cost\u001b[0m \u001b[1;33m+=\u001b[0m \u001b[0mcosts\u001b[0m\u001b[1;33m[\u001b[0m\u001b[0mfacility\u001b[0m\u001b[1;33m,\u001b[0m \u001b[0mlocation\u001b[0m\u001b[1;33m]\u001b[0m\u001b[1;33m\u001b[0m\u001b[1;33m\u001b[0m\u001b[0m\n\u001b[0m\u001b[0;32m      6\u001b[0m     \u001b[1;32mreturn\u001b[0m \u001b[0mtotal_cost\u001b[0m\u001b[1;33m\u001b[0m\u001b[1;33m\u001b[0m\u001b[0m\n",
      "\u001b[1;31mTypeError\u001b[0m: 'zip' object is not subscriptable"
     ]
    }
   ],
   "source": [
    "# Применение локального поиска\n",
    "final_solution, final_cost = local_search(initial_solution, placement_costs)"
   ]
  },
  {
   "cell_type": "code",
   "execution_count": null,
   "id": "f2859e71",
   "metadata": {},
   "outputs": [],
   "source": [
    "# Вывод результатов\n",
    "print(\"Исходное решение:\", initial_solution)\n",
    "print(\"Исходная стоимость:\", calculate_total_cost(initial_solution, placement_costs))\n",
    "print(\"Финальное решение:\", final_solution)\n",
    "print(\"Финальная стоимость:\", final_cost)"
   ]
  },
  {
   "cell_type": "code",
   "execution_count": 9,
   "id": "40ccace6",
   "metadata": {},
   "outputs": [
    {
     "name": "stdout",
     "output_type": "stream",
     "text": [
      "     Facility  Client  Transportation Cost\n",
      "0           1      20                    4\n",
      "1           1      21                    1\n",
      "2           1      22                    3\n",
      "3           1      33                    3\n",
      "4           1      62                    4\n",
      "..        ...     ...                  ...\n",
      "993       100      52                    4\n",
      "994       100      57                    1\n",
      "995       100      60                    2\n",
      "996       100      62                    1\n",
      "997       100      79                    0\n",
      "\n",
      "[998 rows x 3 columns]\n"
     ]
    },
    {
     "ename": "IndexError",
     "evalue": "index 998 is out of bounds for axis 0 with size 998",
     "output_type": "error",
     "traceback": [
      "\u001b[1;31m---------------------------------------------------------------------------\u001b[0m",
      "\u001b[1;31mIndexError\u001b[0m                                Traceback (most recent call last)",
      "\u001b[1;32mC:\\Users\\5B34~1\\AppData\\Local\\Temp/ipykernel_65620/3341972838.py\u001b[0m in \u001b[0;36m<module>\u001b[1;34m\u001b[0m\n\u001b[0;32m     53\u001b[0m \u001b[1;33m\u001b[0m\u001b[0m\n\u001b[0;32m     54\u001b[0m \u001b[1;31m# Применение локального поиска\u001b[0m\u001b[1;33m\u001b[0m\u001b[1;33m\u001b[0m\u001b[0m\n\u001b[1;32m---> 55\u001b[1;33m \u001b[0mfinal_solution\u001b[0m\u001b[1;33m,\u001b[0m \u001b[0mfinal_cost\u001b[0m \u001b[1;33m=\u001b[0m \u001b[0mlocal_search\u001b[0m\u001b[1;33m(\u001b[0m\u001b[0minitial_solution\u001b[0m\u001b[1;33m,\u001b[0m \u001b[0mplacement_costs\u001b[0m\u001b[1;33m)\u001b[0m\u001b[1;33m\u001b[0m\u001b[1;33m\u001b[0m\u001b[0m\n\u001b[0m\u001b[0;32m     56\u001b[0m \u001b[1;33m\u001b[0m\u001b[0m\n\u001b[0;32m     57\u001b[0m \u001b[1;31m# Вывод результатов\u001b[0m\u001b[1;33m\u001b[0m\u001b[1;33m\u001b[0m\u001b[0m\n",
      "\u001b[1;32mC:\\Users\\5B34~1\\AppData\\Local\\Temp/ipykernel_65620/3341972838.py\u001b[0m in \u001b[0;36mlocal_search\u001b[1;34m(initial_solution, costs, max_iterations)\u001b[0m\n\u001b[0;32m     33\u001b[0m \u001b[1;32mdef\u001b[0m \u001b[0mlocal_search\u001b[0m\u001b[1;33m(\u001b[0m\u001b[0minitial_solution\u001b[0m\u001b[1;33m,\u001b[0m \u001b[0mcosts\u001b[0m\u001b[1;33m,\u001b[0m \u001b[0mmax_iterations\u001b[0m\u001b[1;33m=\u001b[0m\u001b[1;36m3000\u001b[0m\u001b[1;33m)\u001b[0m\u001b[1;33m:\u001b[0m\u001b[1;33m\u001b[0m\u001b[1;33m\u001b[0m\u001b[0m\n\u001b[0;32m     34\u001b[0m     \u001b[0mcurrent_solution\u001b[0m \u001b[1;33m=\u001b[0m \u001b[0minitial_solution\u001b[0m\u001b[1;33m.\u001b[0m\u001b[0mcopy\u001b[0m\u001b[1;33m(\u001b[0m\u001b[1;33m)\u001b[0m\u001b[1;33m\u001b[0m\u001b[1;33m\u001b[0m\u001b[0m\n\u001b[1;32m---> 35\u001b[1;33m     \u001b[0mcurrent_cost\u001b[0m \u001b[1;33m=\u001b[0m \u001b[0mcalculate_total_cost\u001b[0m\u001b[1;33m(\u001b[0m\u001b[0mcurrent_solution\u001b[0m\u001b[1;33m,\u001b[0m \u001b[0mcosts\u001b[0m\u001b[1;33m)\u001b[0m\u001b[1;33m\u001b[0m\u001b[1;33m\u001b[0m\u001b[0m\n\u001b[0m\u001b[0;32m     36\u001b[0m \u001b[1;33m\u001b[0m\u001b[0m\n\u001b[0;32m     37\u001b[0m     \u001b[1;32mfor\u001b[0m \u001b[0miteration\u001b[0m \u001b[1;32min\u001b[0m \u001b[0mrange\u001b[0m\u001b[1;33m(\u001b[0m\u001b[0mmax_iterations\u001b[0m\u001b[1;33m)\u001b[0m\u001b[1;33m:\u001b[0m\u001b[1;33m\u001b[0m\u001b[1;33m\u001b[0m\u001b[0m\n",
      "\u001b[1;32mC:\\Users\\5B34~1\\AppData\\Local\\Temp/ipykernel_65620/3341972838.py\u001b[0m in \u001b[0;36mcalculate_total_cost\u001b[1;34m(solution, costs)\u001b[0m\n\u001b[0;32m     27\u001b[0m     \u001b[0mtotal_cost\u001b[0m \u001b[1;33m=\u001b[0m \u001b[1;36m0\u001b[0m\u001b[1;33m\u001b[0m\u001b[1;33m\u001b[0m\u001b[0m\n\u001b[0;32m     28\u001b[0m     \u001b[1;32mfor\u001b[0m \u001b[0mfacility\u001b[0m\u001b[1;33m,\u001b[0m \u001b[0mlocation\u001b[0m \u001b[1;32min\u001b[0m \u001b[0menumerate\u001b[0m\u001b[1;33m(\u001b[0m\u001b[0msolution\u001b[0m\u001b[1;33m)\u001b[0m\u001b[1;33m:\u001b[0m\u001b[1;33m\u001b[0m\u001b[1;33m\u001b[0m\u001b[0m\n\u001b[1;32m---> 29\u001b[1;33m         \u001b[0mtotal_cost\u001b[0m \u001b[1;33m+=\u001b[0m \u001b[0mcosts\u001b[0m\u001b[1;33m[\u001b[0m\u001b[0mfacility\u001b[0m\u001b[1;33m,\u001b[0m \u001b[0mlocation\u001b[0m\u001b[1;33m]\u001b[0m\u001b[1;33m\u001b[0m\u001b[1;33m\u001b[0m\u001b[0m\n\u001b[0m\u001b[0;32m     30\u001b[0m     \u001b[1;32mreturn\u001b[0m \u001b[0mtotal_cost\u001b[0m\u001b[1;33m\u001b[0m\u001b[1;33m\u001b[0m\u001b[0m\n\u001b[0;32m     31\u001b[0m \u001b[1;33m\u001b[0m\u001b[0m\n",
      "\u001b[1;31mIndexError\u001b[0m: index 998 is out of bounds for axis 0 with size 998"
     ]
    }
   ],
   "source": [
    "import numpy as np\n",
    "import pandas as pd\n",
    "\n",
    "file_path = 'instances_labs/18.txt'\n",
    "data = pd.read_csv(file_path, delim_whitespace=True, skiprows=1, index_col=False)\n",
    "data.columns = ['Facility', 'Client', 'Transportation Cost']\n",
    "\n",
    "print(data)\n",
    "\n",
    "Dimension = 3000\n",
    "num_facilities = len(data['Facility'])\n",
    "num_locations = 3000\n",
    "placement_costs = np.zeros((num_facilities, num_locations))\n",
    "\n",
    "# Заполнение матрицы стоимостей из DataFrame\n",
    "for facility, locations in data['Transportation Cost'].items():\n",
    "    facility = int(facility)\n",
    "    for location, cost in data['Transportation Cost'].items():\n",
    "        location = int(location)\n",
    "        placement_costs[facility, location] = cost\n",
    "\n",
    "# Начальное решение (случайное размещение)\n",
    "initial_solution = np.random.choice(num_locations, size=Dimension, replace=True)\n",
    "\n",
    "# Функция для вычисления общей стоимости размещения\n",
    "def calculate_total_cost(solution, costs):\n",
    "    total_cost = 0\n",
    "    for facility, location in enumerate(solution):\n",
    "        total_cost += costs[facility, location]\n",
    "    return total_cost\n",
    "\n",
    "# Локальный поиск\n",
    "def local_search(initial_solution, costs, max_iterations=3000):\n",
    "    current_solution = initial_solution.copy()\n",
    "    current_cost = calculate_total_cost(current_solution, costs)\n",
    "\n",
    "    for iteration in range(max_iterations):\n",
    "        # Генерация соседнего решения (случайная замена местоположения одного предприятия)\n",
    "        neighbor_solution = current_solution.copy()\n",
    "        facility_to_move = np.random.randint(num_facilities)\n",
    "        new_location = np.random.randint(num_locations)\n",
    "        neighbor_solution[facility_to_move] = new_location\n",
    "\n",
    "        # Вычисление стоимости соседнего решения\n",
    "        neighbor_cost = calculate_total_cost(neighbor_solution, costs)\n",
    "\n",
    "        # Принятие решения о переходе к соседнему решению, если оно лучше\n",
    "        if neighbor_cost < current_cost:\n",
    "            current_solution = neighbor_solution\n",
    "            current_cost = neighbor_cost\n",
    "\n",
    "    return current_solution, current_cost\n",
    "\n",
    "# Применение локального поиска\n",
    "final_solution, final_cost = local_search(initial_solution, placement_costs)\n",
    "\n",
    "# Вывод результатов\n",
    "print(\"Исходное решение:\", initial_solution)\n",
    "print(\"Исходная стоимость:\", calculate_total_cost(initial_solution, placement_costs))\n",
    "print(\"Финальное решение:\", final_solution)\n",
    "print(\"Финальная стоимость:\", final_cost)\n"
   ]
  },
  {
   "cell_type": "code",
   "execution_count": null,
   "id": "f7fd12fe",
   "metadata": {},
   "outputs": [],
   "source": []
  }
 ],
 "metadata": {
  "kernelspec": {
   "display_name": "Python 3 (ipykernel)",
   "language": "python",
   "name": "python3"
  },
  "language_info": {
   "codemirror_mode": {
    "name": "ipython",
    "version": 3
   },
   "file_extension": ".py",
   "mimetype": "text/x-python",
   "name": "python",
   "nbconvert_exporter": "python",
   "pygments_lexer": "ipython3",
   "version": "3.9.7"
  }
 },
 "nbformat": 4,
 "nbformat_minor": 5
}
